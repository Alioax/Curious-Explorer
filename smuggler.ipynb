{
 "cells": [
  {
   "cell_type": "code",
   "execution_count": 1,
   "metadata": {},
   "outputs": [],
   "source": [
    "import requests\n",
    "import json\n",
    "\n",
    "CLIENT_ID = \"urBJ73Tg3W8WO5cH-wKErA\"\n",
    "SECRET_KEY = \"_jaI7Lelz3U2lvTp7empDsrCQgqz3w\"\n",
    "\n",
    "BOT_TOKEN = '5380868349:AAEeNmOZyaNcl2TXV6J_iO4xBJKr6w-G2ZQ'\n",
    "REPEAT_CONTROL_BOT_TOKEN = '5489350111:AAEudYL38-s7IopCWY45WooCdOK-JngVLSE'\n",
    "\n",
    "TARGET_CHANNEL_ID = -1001785128889\n",
    "CACHE_CHANNEL_ID = -1001770134425\n",
    "\n",
    "reddit_acc_data = {\n",
    "    'grant_type': 'password',\n",
    "    'username': 'alioax',  # reddit's account username\n",
    "    'password': 'o91759o9576'  # reddit's account password\n",
    "}\n",
    "\n",
    "subreddit = \"dankmemes\"\n",
    "listing = \"hot\"  # listing category\n",
    "limit = \"5\"  # posts to check\n"
   ]
  },
  {
   "cell_type": "code",
   "execution_count": 2,
   "metadata": {},
   "outputs": [],
   "source": [
    "def send(method, caption, data=\"\", bot_token=BOT_TOKEN, target=TARGET_CHANNEL_ID):\n",
    "    if method == \"sendMessage\":\n",
    "        payload = {'chat_id': target, 'text': caption}\n",
    "    if method == \"sendPhoto\":\n",
    "        payload = {'chat_id': target,\n",
    "                   'caption': caption, 'photo': data, }\n",
    "    if method == \"sendVideo\":\n",
    "        payload = {'chat_id': target,\n",
    "                   'caption': caption, 'video': data, }\n",
    "    url = \"https://api.telegram.org/bot\" + str(bot_token) + \"/\" + str(method)\n",
    "    r = requests.get(url, params=payload)\n",
    "    if (r.status_code) == 200:\n",
    "        print(\"a message has been sent.\")\n",
    "    else:\n",
    "        print(f\"message hasn't been sent, error: {r.text}\")\n",
    "\n",
    "def getUpdates(token, empty=False):\n",
    "    requestURL = f'https://api.telegram.org/bot{token}/getUpdates'\n",
    "    if empty:\n",
    "        payload = {'offset': -1}\n",
    "        r = requests.get(requestURL, params=payload)\n",
    "    else:\n",
    "        payload = {'limit': 20}\n",
    "        r = requests.get(requestURL)\n",
    "    return r"
   ]
  },
  {
   "cell_type": "code",
   "execution_count": 3,
   "metadata": {},
   "outputs": [],
   "source": [
    "auth = requests.auth.HTTPBasicAuth(CLIENT_ID, SECRET_KEY)\n",
    "\n",
    "headers = {'User-Agent': 'MyAPI/0.0.1'}\n",
    "res = requests.post('https://www.reddit.com/api/v1/access_token',\n",
    "                    auth=auth, data=reddit_acc_data, headers=headers)\n",
    "\n",
    "TOKEN = res.json()['access_token']\n",
    "\n",
    "headers['Authorization'] = f'bearer {TOKEN}'\n",
    "\n",
    "res = requests.get(f'https://oauth.reddit.com/r/{subreddit}/{listing}?limit={limit}',\n",
    "                   headers=headers)\n",
    "\n",
    "posts = res.json()['data']['children']"
   ]
  },
  {
   "cell_type": "code",
   "execution_count": 12,
   "metadata": {},
   "outputs": [],
   "source": [
    "names_sent = getUpdates(BOT_TOKEN)\n",
    "names_sent = [names_sent.json()['result'][x]['channel_post']['text'] for x in range(0, len(names_sent.json()['result']))]"
   ]
  },
  {
   "cell_type": "code",
   "execution_count": null,
   "metadata": {},
   "outputs": [
    {
     "name": "stdout",
     "output_type": "stream",
     "text": [
      "a message has been sent.\n",
      "a message has been sent.\n",
      "a message has been sent.\n",
      "a message has been sent.\n",
      "a message has been sent.\n",
      "a message has been sent.\n",
      "a message has been sent.\n",
      "a message has been sent.\n",
      "denied a repeated message\n",
      "a message has been sent.\n",
      "a message has been sent.\n"
     ]
    }
   ],
   "source": [
    "for post in posts:\n",
    "    name = post['data']['name']\n",
    "    if name not in names_sent:\n",
    "        if 'reddit_video_preview' in post['data']['preview']:\n",
    "            send('sendVideo', post['data']['title'], post['data']\n",
    "                 ['preview']['reddit_video_preview'][\"fallback_url\"])\n",
    "        else:\n",
    "            if str(post['data']['url_overridden_by_dest']).endswith('gif'):\n",
    "                send('sendVideo', post['data']['title'],\n",
    "                     post['data']['url_overridden_by_dest'])\n",
    "            else:\n",
    "                send('sendPhoto', post['data']['title'],\n",
    "                     post['data']['url_overridden_by_dest'])\n",
    "        send('sendMessage', name, bot_token=REPEAT_CONTROL_BOT_TOKEN, target=CACHE_CHANNEL_ID)\n",
    "    else:\n",
    "        print('denied a repeated message')"
   ]
  }
 ],
 "metadata": {
  "kernelspec": {
   "display_name": "Python 3.9.7 ('base')",
   "language": "python",
   "name": "python3"
  },
  "language_info": {
   "codemirror_mode": {
    "name": "ipython",
    "version": 3
   },
   "file_extension": ".py",
   "mimetype": "text/x-python",
   "name": "python",
   "nbconvert_exporter": "python",
   "pygments_lexer": "ipython3",
   "version": "3.9.7"
  },
  "orig_nbformat": 4,
  "vscode": {
   "interpreter": {
    "hash": "9f00ee6caf69f24fbfd07a9149784e4dcf950e839db5fa8fddda448f0b79c01d"
   }
  }
 },
 "nbformat": 4,
 "nbformat_minor": 2
}
